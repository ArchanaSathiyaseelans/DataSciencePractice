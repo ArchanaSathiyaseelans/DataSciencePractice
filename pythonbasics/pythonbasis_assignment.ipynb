{
 "cells": [
  {
   "cell_type": "code",
   "execution_count": null,
   "id": "15f0c36b-c2f7-40a0-9e73-51a8ea350c7a",
   "metadata": {},
   "outputs": [],
   "source": [
    "# Variables"
   ]
  },
  {
   "cell_type": "code",
   "execution_count": 2,
   "id": "4ba57edf-b71e-4e23-90ae-158fec8c8024",
   "metadata": {},
   "outputs": [],
   "source": [
    "# Create a variable called break and assign it a value 5. See what happens and find out  the reason\n",
    "# behind the behaviour that you see.\n",
    "#break = 5\n",
    "##         gives invalid syntax"
   ]
  },
  {
   "cell_type": "code",
   "execution_count": 4,
   "id": "d6e9c47e-2313-4a5c-a100-132e5d46ea34",
   "metadata": {},
   "outputs": [
    {
     "name": "stdout",
     "output_type": "stream",
     "text": [
      "-26\n"
     ]
    }
   ],
   "source": [
    "# Create two variables. One to store your birth year and another one to store current year. Now Calculate\n",
    "# your age ysing two variables\n",
    "\n",
    "birth_year = 1998\n",
    "current_year = 2024\n",
    "current_age = birth_year-current_year\n",
    "\n",
    "print(current_age)\n"
   ]
  },
  {
   "cell_type": "code",
   "execution_count": 7,
   "id": "83475d07-b255-43be-98df-ec6dcc0d67d3",
   "metadata": {},
   "outputs": [
    {
     "name": "stdout",
     "output_type": "stream",
     "text": [
      "Your name is: Archana Sathiya seelan\n"
     ]
    }
   ],
   "source": [
    "# Store your first, middle and last name in three different variables and then print your full name using three variables\n",
    "\n",
    "first_name = \"Archana\"\n",
    "second_name = \"Sathiya\"\n",
    "third_name = \"seelan\"\n",
    "\n",
    "print(\"Your name is: \" +first_name+\" \" +second_name+ \" \" +third_name)"
   ]
  },
  {
   "cell_type": "code",
   "execution_count": 9,
   "id": "33220aa7-d7eb-403b-8d6e-efa2577fdef2",
   "metadata": {},
   "outputs": [],
   "source": [
    "# Answer which of these are invalid variable names:  _notion, 1record, record1, record_one,record-one,\n",
    "#recor^one, continue\n",
    "\n",
    "#answer\n",
    "#1record = first letter for variable declaration always starts with character and then number\n",
    "# continue = is the special key  or character word that is already stored in the system\n",
    "#record-one = no special character called be used to declare variable except underscore"
   ]
  },
  {
   "cell_type": "code",
   "execution_count": 1,
   "id": "a2992c29-6974-4c07-b446-f36029d186e0",
   "metadata": {},
   "outputs": [],
   "source": [
    "#Numbers"
   ]
  },
  {
   "cell_type": "code",
   "execution_count": 6,
   "id": "0faf6b3c-f36e-434f-87b3-9bc5baf36dfd",
   "metadata": {},
   "outputs": [
    {
     "name": "stdout",
     "output_type": "stream",
     "text": [
      "The total area of football is: 4489.599999999999\n"
     ]
    }
   ],
   "source": [
    "# 1. You have a football field that is 92 meter long and 48.8 meter wide. Find the total area using python and print it\n",
    "height = 92\n",
    "width = 48.8\n",
    "area = height*width\n",
    "print(\"The total area of football is:\", area)"
   ]
  },
  {
   "cell_type": "code",
   "execution_count": 9,
   "id": "cf8632b8-9756-438c-b492-b4fc316aa7a9",
   "metadata": {},
   "outputs": [
    {
     "name": "stdout",
     "output_type": "stream",
     "text": [
      "The shopkeeper returns you 6.59\n"
     ]
    }
   ],
   "source": [
    "#2. You bought 9 packets of potato chips from a store, Each packet costs 1.49 dollar and you gave shopkeeper 20 dollar\n",
    "# Find out using python how many dollars is the shopkeeper going to give you back?\n",
    "num_packet = 9\n",
    "cost_per_each = 1.49\n",
    "totalcost = num_packet*cost_per_each\n",
    "money_paid = 20\n",
    "cashback = money_paid-totalcost\n",
    "print(\"The shopkeeper returns you\", cashback)"
   ]
  },
  {
   "cell_type": "code",
   "execution_count": 11,
   "id": "9a5fb222-5025-4d42-933e-9bf2ea472ab8",
   "metadata": {},
   "outputs": [
    {
     "name": "stdout",
     "output_type": "stream",
     "text": [
      "The Total cost for bathroom titles replacement: 15125.0\n"
     ]
    }
   ],
   "source": [
    "#3. You want to replace titles in your bathroom which is exactly square and 5.5 feet is its length.\n",
    "#If titles cost 500rs per square feet. How much will be the total cost to replace all titles. Calculate\n",
    "#and print the cost using python\n",
    "# use power operator (**) to find area of the square\n",
    "\n",
    "length = 5.5\n",
    "area = length**2\n",
    "totalcost = 500*area\n",
    "print(\"The Total cost for bathroom titles replacement:\", totalcost)"
   ]
  },
  {
   "cell_type": "code",
   "execution_count": 14,
   "id": "6a0da173-4d50-457f-92aa-3e6ff3ecff6d",
   "metadata": {},
   "outputs": [
    {
     "name": "stdout",
     "output_type": "stream",
     "text": [
      "Binary of number 17:  10001\n"
     ]
    }
   ],
   "source": [
    "# 4. Print binary representation of number 17\n",
    "\n",
    "num = 17\n",
    "print(\"Binary of number 17: \", format(num, 'b'))"
   ]
  },
  {
   "cell_type": "code",
   "execution_count": 15,
   "id": "d58d9157-bbc9-43bf-b425-02f44e23ae7f",
   "metadata": {},
   "outputs": [],
   "source": [
    "#Strins"
   ]
  },
  {
   "cell_type": "code",
   "execution_count": 19,
   "id": "e58792f4-2e1a-4d55-86ee-203d820b98d3",
   "metadata": {},
   "outputs": [
    {
     "name": "stdout",
     "output_type": "stream",
     "text": [
      "The Address using + operator is  # 87 nuskam C block\n",
      "Bangalore\n",
      "India\n",
      "The Address using f-string operator is  # 87 nuskam C block\n",
      "Bangalore\n",
      "India\n"
     ]
    }
   ],
   "source": [
    "#1. Create 3 variables to store street, city and country, now create address variable to store entire address.\n",
    "#Use two ways of creating this variable. one using + operator  and other is f-string \n",
    "#Now print the address in such a way that the street , city and country prints in a separate variable\n",
    "\n",
    "street = \"# 87 nuskam C block\"\n",
    "city = \"Bangalore\"\n",
    "country = \"India\"\n",
    "address = street+ '\\n' +city+ '\\n' +country\n",
    "print(\"The Address using + operator is \", address)\n",
    "Address = f'{street}\\n{city}\\n{country}'\n",
    "print(\"The Address using f-string operator is \", Address)"
   ]
  },
  {
   "cell_type": "code",
   "execution_count": 29,
   "id": "1a98d6f1-7556-4780-921b-12596373d776",
   "metadata": {},
   "outputs": [
    {
     "name": "stdout",
     "output_type": "stream",
     "text": [
      "revolves\n",
      "sun\n"
     ]
    }
   ],
   "source": [
    "#2.\n",
    "string = \"Earth revolves around the sun\"\n",
    "print(string[6:14]) # using slice operator\n",
    "print(string[-3:]) # using negative index"
   ]
  },
  {
   "cell_type": "code",
   "execution_count": 33,
   "id": "9a17c45a-ef10-42ca-94c5-fea4ce426550",
   "metadata": {},
   "outputs": [
    {
     "name": "stdout",
     "output_type": "stream",
     "text": [
      " I eat 10 veggis and 20 fruits daliy\n"
     ]
    }
   ],
   "source": [
    "#3\n",
    "numfruits = 20\n",
    "numveg = 10\n",
    "print(f' I eat {numveg} veggis and {numfruits} fruits daliy')"
   ]
  },
  {
   "cell_type": "code",
   "execution_count": 39,
   "id": "f9115ba9-4677-4148-bbf1-98376e2ffc02",
   "metadata": {},
   "outputs": [
    {
     "name": "stdout",
     "output_type": "stream",
     "text": [
      "Statement using two lines: I ate 10 bananas\n"
     ]
    }
   ],
   "source": [
    "# this gives error\n",
    "string = \"I ate 200 bananas\"\n",
    "s = string.replace('bananas', 'samosa')\n",
    "s = string.replace('200', '10')\n",
    "print(\"Statement using two lines:\", s)"
   ]
  },
  {
   "cell_type": "code",
   "execution_count": 40,
   "id": "de921034-fa23-4a67-9883-76a2fbb4c00c",
   "metadata": {},
   "outputs": [
    {
     "name": "stdout",
     "output_type": "stream",
     "text": [
      "Statement using two lines: I ate 10 samosa\n"
     ]
    }
   ],
   "source": [
    "string = \"I ate 200 bananas\"\n",
    "s = string.replace('200', '10').replace('bananas', 'samosa')\n",
    "print(\"Statement using two lines:\", s)"
   ]
  },
  {
   "cell_type": "code",
   "execution_count": 41,
   "id": "14f6f0b2-2ad8-418f-9d25-c13ef99a54f5",
   "metadata": {},
   "outputs": [],
   "source": [
    "#lists"
   ]
  },
  {
   "cell_type": "code",
   "execution_count": 50,
   "id": "68800906-e3af-42b5-bb58-1cc57eb004ab",
   "metadata": {},
   "outputs": [
    {
     "name": "stdout",
     "output_type": "stream",
     "text": [
      "In feb this much extra was spent compare to jan: 150\n",
      "The total expense in first quarter is: 7150\n",
      "Did i spent 2000$ in any month: False\n",
      "Expenses at the end of june: [2200, 2350, 2600, 2130, 2100, 1980]\n",
      "Expense list after return of 200#: [2200, 2350, 2600, 1930, 2100, 1980]\n"
     ]
    }
   ],
   "source": [
    "#1. Let us say your expense for every month are listed below\n",
    "# jan-2200, feb-2350, mar-2600, april -2130 May -2100 create list\n",
    "# a. in feb, how many dollars you spent extra compare to january?\n",
    "a = [2200, 2350, 2600, 2130, 2100]\n",
    "print(\"In feb this much extra was spent compare to jan:\", a[1]-a[0])\n",
    "\n",
    "# b. find out total expense in first quarter (first three months) of the year\n",
    "print(\"The total expense in first quarter is:\", a[0]+a[1]+a[2])\n",
    "\n",
    "# c. Find out if you spent exactly 2000 dollars in any month\n",
    "print(\"Did i spent 2000$ in any month:\", 2000 in a)\n",
    "\n",
    "#d.  June month just finished and your expense is 1980 dollar. Add this to your expense list\n",
    "a.append(1980)\n",
    "print(\"Expenses at the end of june:\", a)\n",
    "\n",
    "#e. e. You retured an item that you brought in amonth of arpil end got return 200$ \n",
    "#make a correction to your monthly expense list\n",
    "a[3] = a[3]-200\n",
    "print(\"Expense list after return of 200#:\", a)"
   ]
  },
  {
   "cell_type": "code",
   "execution_count": 58,
   "id": "a8c2bb8d-3ae4-42e0-b763-a8651a5158af",
   "metadata": {},
   "outputs": [
    {
     "name": "stdout",
     "output_type": "stream",
     "text": [
      "5\n",
      "['spider man', 'thor', 'hulk', 'iron man', 'captain america', 'black pather']\n",
      "['spider man', 'thor', 'hulk', 'balck pather', 'iron man', 'captain america']\n",
      "['spider man', 'doctor strange', 'balck pather', 'iron man', 'captain america']\n",
      "['balck pather', 'captain america', 'doctor strange', 'iron man', 'spider man']\n"
     ]
    }
   ],
   "source": [
    "#2. \n",
    "heros = ['spider man', 'thor', 'hulk', 'iron man', 'captain america']\n",
    "# a. find the length\n",
    "print(len(heros))\n",
    "\n",
    "#b\n",
    "heros.append('black pather')\n",
    "print(heros)\n",
    "\n",
    "#c.\n",
    "heros.remove('black pather')\n",
    "heros.insert(3,'balck pather')\n",
    "print(heros)\n",
    "\n",
    "#4. \n",
    "# heros[1:3]='doctor strange' ['d' 'o'] it prints character by character so use list\n",
    "heros[1:3]=['doctor strange']\n",
    "print(heros)\n",
    "\n",
    "#5. \n",
    "heros.sort()\n",
    "print(heros)"
   ]
  },
  {
   "cell_type": "code",
   "execution_count": 59,
   "id": "a4d37015-8a17-44bb-8b7c-403caf7204c7",
   "metadata": {},
   "outputs": [],
   "source": [
    "#if condition"
   ]
  },
  {
   "cell_type": "code",
   "execution_count": 63,
   "id": "701bbb6a-412c-41f7-8312-a878b74eec4a",
   "metadata": {},
   "outputs": [
    {
     "name": "stdin",
     "output_type": "stream",
     "text": [
      "Enter your city: rangpur\n"
     ]
    },
    {
     "name": "stdout",
     "output_type": "stream",
     "text": [
      "rangpur is in bangladesh\n"
     ]
    }
   ],
   "source": [
    "#i. Write a program that asks to enter a city name it should  tell which country the city belongs to\n",
    "\n",
    "india = ['mumbai', 'chennai', 'delhi']\n",
    "pakistan = ['lahore', 'karachi', 'islambad']\n",
    "bangladesh = ['dhaka', 'khulna', 'rangpur']\n",
    "\n",
    "city = input(\"Enter your city:\")\n",
    "\n",
    "if city in india:\n",
    "    print(f'{city} is in india')\n",
    "elif city in pakistan:\n",
    "    print(f'{city} is in pakistan')\n",
    "elif city in bangladesh:\n",
    "    print(f'{city} is in bangladesh')\n",
    "else:\n",
    "    print(f'I could not figuare it out your {city}')"
   ]
  },
  {
   "cell_type": "code",
   "execution_count": 65,
   "id": "f2cc2d91-6528-45cb-abb6-fba0e1619662",
   "metadata": {},
   "outputs": [
    {
     "name": "stdin",
     "output_type": "stream",
     "text": [
      "Enter your 1 city: chennai\n",
      "Enter your 2 city: chennai\n"
     ]
    },
    {
     "name": "stdout",
     "output_type": "stream",
     "text": [
      "Both the cities are in india\n"
     ]
    }
   ],
   "source": [
    "#ii Write a program that asks user to enter two cities and it tells you if they both are in same country or not.\n",
    "# For example if i enter mumbai and chennai. it will print \"Both cities are in india  else not  the same\n",
    "india = ['mumbai', 'chennai', 'delhi']\n",
    "pakistan = ['lahore', 'karachi', 'islambad']\n",
    "bangladesh = ['dhaka', 'khulna', 'rangpur']\n",
    "\n",
    "city1 = input(\"Enter your 1 city:\")\n",
    "city2 = input(\"Enter your 2 city:\")\n",
    "\n",
    "if city1 in india and city2 in india:\n",
    "    print(f'Both the cities are in india')\n",
    "elif city1 in pakistan and city2 in pakistan:\n",
    "    print(f'Both the cities are in pakistan')\n",
    "elif city1 in bangladesh and city2 in bangladesh:\n",
    "    print(f'Both the cities are in bangladesh')\n",
    "else:\n",
    "    print(f\"They don't belong to same country\")\n",
    "\n"
   ]
  },
  {
   "cell_type": "code",
   "execution_count": 67,
   "id": "3cdb61cb-7051-47bf-9085-0e08477fd509",
   "metadata": {},
   "outputs": [
    {
     "name": "stdin",
     "output_type": "stream",
     "text": [
      "Enter your sugar level is:  20\n"
     ]
    },
    {
     "name": "stdout",
     "output_type": "stream",
     "text": [
      "Your sugar level is low, please consume some sweets\n"
     ]
    }
   ],
   "source": [
    "#2.\n",
    "sugar = input(\"Enter your sugar level is: \")\n",
    "sugar = float(sugar)\n",
    "if sugar<80:\n",
    "    print(\"Your sugar level is low, please consume some sweets\")\n",
    "elif sugar >100:\n",
    "    print(\"your sugar level is high, please stop eating sweets\")\n",
    "else:\n",
    "    print(\"Your sugar level is normal, you can enjoy your level be please be healthly\")"
   ]
  },
  {
   "cell_type": "code",
   "execution_count": 1,
   "id": "abc53d31-da0f-4c23-8622-79d66a34a178",
   "metadata": {},
   "outputs": [],
   "source": [
    "#For loop"
   ]
  },
  {
   "cell_type": "code",
   "execution_count": 16,
   "id": "6ee518e7-c274-42a9-a4d5-6c6877f45ba0",
   "metadata": {},
   "outputs": [
    {
     "name": "stdout",
     "output_type": "stream",
     "text": [
      "No of heads are 4\n"
     ]
    }
   ],
   "source": [
    "#1. How many have heads \n",
    "result = [\"heads\",\"tails\",\"tails\",\"heads\",\"tails\",\"heads\",\"tails\",\"tails\",\"heads\",\"tails\",]\n",
    "count = 0\n",
    "for item in result:       \n",
    "    if item == \"heads\":\n",
    "        count += 1  \n",
    "         \n",
    "print(\"No of heads are\", count)  "
   ]
  },
  {
   "cell_type": "code",
   "execution_count": 22,
   "id": "ab9f0f1a-8fb0-47dc-8434-29809f2ca6e2",
   "metadata": {},
   "outputs": [
    {
     "name": "stdout",
     "output_type": "stream",
     "text": [
      "1\n",
      "9\n",
      "25\n",
      "49\n",
      "81\n",
      "4\n",
      "16\n",
      "36\n",
      "64\n",
      "100\n"
     ]
    }
   ],
   "source": [
    "#2 Print square of all numbers bet 1 to 10 except even numbers\n",
    "for i in range(1, 11):\n",
    "    if i % 2 == 0:\n",
    "        continue\n",
    "    print(i*i)  \n",
    "\n",
    "#2 Print square of all numbers bet 1 to 10 except odd numbers\n",
    "for i in range(1, 11):\n",
    "    if i % 2 == 1:\n",
    "        continue\n",
    "    print(i*i)  \n"
   ]
  },
  {
   "cell_type": "code",
   "execution_count": 33,
   "id": "ed105599-4b31-49ec-a4ab-9c9ff790e61e",
   "metadata": {},
   "outputs": [
    {
     "name": "stdin",
     "output_type": "stream",
     "text": [
      "Enter expense amount:  2500\n"
     ]
    },
    {
     "name": "stdout",
     "output_type": "stream",
     "text": [
      "You spent 2500 in February\n"
     ]
    }
   ],
   "source": [
    "#3. program to ask expense money wheather you spent or not\n",
    "month_list = [\"January\", \"February\",\"March\", \"April\", \"May\",]\n",
    "expense_list = [2340, 2500, 2100, 3100, 2980]\n",
    "e = input(\"Enter expense amount: \")\n",
    "e = int(e)\n",
    "month = -1\n",
    "\n",
    "for i in range(len(expense_list)):\n",
    "    if e == expense_list[i]:\n",
    "        month = i\n",
    "        break\n",
    "        \n",
    "\n",
    "if month != -1:\n",
    "    print(f\"You spent {e} in {month_list[month]}\")\n",
    "else:\n",
    "    print(f\"You didn't spend {e} in any month\")\n"
   ]
  },
  {
   "cell_type": "code",
   "execution_count": 41,
   "id": "41ab9d8b-e8c3-4198-a2fd-6d66e9e46aca",
   "metadata": {},
   "outputs": [
    {
     "name": "stdout",
     "output_type": "stream",
     "text": [
      "You ran 1 miles\n"
     ]
    },
    {
     "name": "stdin",
     "output_type": "stream",
     "text": [
      "Are you tired?  no\n"
     ]
    },
    {
     "name": "stdout",
     "output_type": "stream",
     "text": [
      "You ran 2 miles\n"
     ]
    },
    {
     "name": "stdin",
     "output_type": "stream",
     "text": [
      "Are you tired?  no\n"
     ]
    },
    {
     "name": "stdout",
     "output_type": "stream",
     "text": [
      "You ran 3 miles\n"
     ]
    },
    {
     "name": "stdin",
     "output_type": "stream",
     "text": [
      "Are you tired?  no\n"
     ]
    },
    {
     "name": "stdout",
     "output_type": "stream",
     "text": [
      "You ran 4 miles\n"
     ]
    },
    {
     "name": "stdin",
     "output_type": "stream",
     "text": [
      "Are you tired?  no\n"
     ]
    },
    {
     "name": "stdout",
     "output_type": "stream",
     "text": [
      "You ran 5 miles\n"
     ]
    },
    {
     "name": "stdin",
     "output_type": "stream",
     "text": [
      "Are you tired?  no\n"
     ]
    },
    {
     "name": "stdout",
     "output_type": "stream",
     "text": [
      "Hurryy! You are a rock star! you just finished 5 km race!\n"
     ]
    }
   ],
   "source": [
    "# 4. \n",
    "for i in range(5):\n",
    "    print(f\"You ran {i+1} miles\") # i starts with zero hence adding 1\n",
    "    tired = input (\"Are you tired? \")\n",
    "    if tired == 'yes':\n",
    "        break\n",
    "\n",
    "if i == 4:  # 4 because the index starts from 0\n",
    "    print(\"Hurryy! You are a rock star! you just finished 5 km race!\")\n",
    "else:\n",
    "    print(\"You didn't finish 5 km but hey congrats anyways! you still ran {i+1} miles\")  \n",
    "    "
   ]
  },
  {
   "cell_type": "code",
   "execution_count": 50,
   "id": "a734bbd1-1538-44c1-b2aa-2e3413e576ae",
   "metadata": {},
   "outputs": [
    {
     "name": "stdout",
     "output_type": "stream",
     "text": [
      "*\n",
      "**\n",
      "***\n",
      "****\n",
      "*****\n"
     ]
    }
   ],
   "source": [
    "for i in range(1, 6):\n",
    "    s = ''\n",
    "    for j in range(i):\n",
    "        s  '*'\n",
    "    print(s)"
   ]
  },
  {
   "cell_type": "code",
   "execution_count": 62,
   "id": "1a81466f-8946-4a34-8427-252d2eca17d1",
   "metadata": {},
   "outputs": [
    {
     "name": "stdout",
     "output_type": "stream",
     "text": [
      "print pattern with input=3\n",
      "*\n",
      "**\n",
      "***\n",
      "print pattern with input=4\n",
      "*\n",
      "**\n",
      "***\n",
      "****\n",
      "print pattern with no input number\n",
      "*\n",
      "**\n",
      "***\n",
      "****\n",
      "*****\n"
     ]
    }
   ],
   "source": [
    "# functions\n",
    "def print_pattern(n=5):\n",
    "    for i in range(n):\n",
    "        s = ''\n",
    "        for j in range(i+1):\n",
    "             s = s + '*'\n",
    "        print(s)\n",
    "\n",
    "print(\"print pattern with input=3\")\n",
    "print_pattern(3)\n",
    "print(\"print pattern with input=4\")\n",
    "print_pattern(4)\n",
    "print(\"print pattern with no input number\")\n",
    "print_pattern() # uses the default input"
   ]
  },
  {
   "cell_type": "code",
   "execution_count": 63,
   "id": "19b27a3d-56cc-4e8c-8b45-d212373f9fea",
   "metadata": {},
   "outputs": [
    {
     "name": "stdout",
     "output_type": "stream",
     "text": [
      "Area of triangle is:  25.0\n"
     ]
    }
   ],
   "source": [
    "# 2 calcuating area of triangle using functions\n",
    "def calculate_area(dimension1, dimension2, shape=\"triangle\"):\n",
    "    if shape == \"triangle\":\n",
    "        area = 1/2*(dimension1*dimension2) \n",
    "    elif shape == \"rectangle\":\n",
    "        area = dimension1 * dimension2 # Rectangle area is: length*width\n",
    "    else:\n",
    "        print(\"Error: Input shape is niether triangle nor rectangle:\")\n",
    "        area= None \n",
    "    return area\n",
    "\n",
    "\n",
    "base = 10\n",
    "height = 5\n",
    "triangle_area = calculate_area(base, height, \"triangle\")\n",
    "print(\"Area of triangle is: \", triangle_area)\n"
   ]
  },
  {
   "cell_type": "code",
   "execution_count": 68,
   "id": "676d6220-114e-4b80-a8b5-e748ed78edde",
   "metadata": {},
   "outputs": [
    {
     "name": "stdout",
     "output_type": "stream",
     "text": [
      "Area of triangle is:  100.0\n"
     ]
    }
   ],
   "source": [
    "# 2 calcuating area of triangle without supplying shape argument in afunction call\n",
    "def calculate_area(dimension1, dimension2, shape=\"triangle\"):\n",
    "    if shape == \"triangle\":\n",
    "        area = 1/2*(dimension1*dimension2) \n",
    "    elif shape == \"rectangle\":\n",
    "        area = dimension1 * dimension2 # Rectangle area is: length*width\n",
    "    else:\n",
    "        print(\"Error: Input shape is niether triangle nor rectangle:\")\n",
    "        area= None \n",
    "    return area\n",
    "\n",
    "\n",
    "base = 20\n",
    "height = 10\n",
    "triangle_area = calculate_area(base, height) # here is third argument is missing\n",
    "print(\"Area of triangle is: \", triangle_area)\n"
   ]
  },
  {
   "cell_type": "code",
   "execution_count": 65,
   "id": "b22cba6e-1564-46ed-b673-aa301453bd62",
   "metadata": {},
   "outputs": [
    {
     "name": "stdout",
     "output_type": "stream",
     "text": [
      "Area of rectangle is:  200\n"
     ]
    }
   ],
   "source": [
    "# 3 calcuating area of rectangle using functions\n",
    "def calculate_area(dimension1, dimension2, shape=\"triangle\"):\n",
    "    if shape == \"triangle\":\n",
    "        area = 1/2*(dimension1*dimension2) \n",
    "    elif shape == \"rectangle\":\n",
    "        area = dimension1 * dimension2 # Rectangle area is: length*width\n",
    "    else:\n",
    "        print(\"Error: Input shape is niether triangle nor rectangle:\")\n",
    "        area= None \n",
    "    return area\n",
    "\n",
    "\n",
    "length = 20\n",
    "width = 10\n",
    "rectangle_area = calculate_area(length, width, \"rectangle\")\n",
    "print(\"Area of rectangle is: \", rectangle_area)\n"
   ]
  },
  {
   "cell_type": "code",
   "execution_count": 69,
   "id": "38c66ab9-a88e-42ac-a823-4c1bab70e073",
   "metadata": {},
   "outputs": [],
   "source": [
    "#dict_tuples"
   ]
  },
  {
   "cell_type": "code",
   "execution_count": 99,
   "id": "81c032ef-eb17-4895-b3d0-c6349adf00c3",
   "metadata": {},
   "outputs": [
    {
     "name": "stdout",
     "output_type": "stream",
     "text": [
      "china==>143\n",
      "india==>180\n",
      "usa==>32\n",
      "pakistan==>21\n"
     ]
    },
    {
     "name": "stdin",
     "output_type": "stream",
     "text": [
      "Enter operation (add, rempove, query or print): remove\n",
      "Enter country name to remove: usa\n"
     ]
    },
    {
     "name": "stdout",
     "output_type": "stream",
     "text": [
      "china==>143\n",
      "india==>180\n",
      "usa==>32\n",
      "pakistan==>21\n"
     ]
    }
   ],
   "source": [
    "#1. Country_poplution rint, add, remove, ask quires\n",
    "population = {\n",
    "    'china': 143,\n",
    "    'india': 180,\n",
    "    'usa': 32,\n",
    "    'pakistan':21\n",
    "}\n",
    "\n",
    "def print_all():\n",
    "    for country, p in poplution.items():\n",
    "        print(f\"{country}==>{p}\")\n",
    "\n",
    "def add():\n",
    "    country = input(\"Enter country name to add:\")\n",
    "    country = country.lower()\n",
    "    if country in population:\n",
    "        print(\"Country already exist in our dataset. Terminating\")\n",
    "        return\n",
    "    p = input(f\"Enter poplution for {country}\")\n",
    "    p=float(p)\n",
    "    population[country] = p #Adds new key pair to dictionary\n",
    "    print_all()\n",
    "\n",
    "def remove():\n",
    "    country = input(\"Enter country name to remove:\")\n",
    "    country = country.lower()\n",
    "    if country not in population:\n",
    "        print(\"Country doesn't exist in our dataset. Terminating\")\n",
    "        return\n",
    "    del population[country]   #Adds new key pair to dictionary\n",
    "    print_all()\n",
    "\n",
    "def query():\n",
    "    country = input(\"Enter country name to query:\")\n",
    "    country = country.lower()\n",
    "    if country not in population:\n",
    "        print(\"Country doesn't exist in our dataset. Terminating\")\n",
    "        return\n",
    "    print(f\"Population of {country} is: {population[country]} crore\")\n",
    "\n",
    "def main():\n",
    "    op = input(\"Enter operation (add, rempove, query or print):\")\n",
    "    if op.lower() == 'add':\n",
    "        add()\n",
    "    elif op.lower() == 'remove':\n",
    "        remove()\n",
    "    elif op.lower() == 'query':\n",
    "        query()\n",
    "    elif op.lower() == 'print':\n",
    "        print_all()\n",
    "\n",
    "if __name__ == '__main__':\n",
    "    main()\n",
    "\n"
   ]
  },
  {
   "cell_type": "code",
   "execution_count": 97,
   "id": "3be64f4d-f3cf-4f1d-8808-2cbd6f80e7d3",
   "metadata": {},
   "outputs": [
    {
     "name": "stdin",
     "output_type": "stream",
     "text": [
      "Enter operation (print, add or amend):  add\n",
      "Enter a stock ticker to add: info\n",
      "Enter price of this stock: 450\n"
     ]
    },
    {
     "name": "stdout",
     "output_type": "stream",
     "text": [
      "info ==> [600, 630, 620, 450.0] ==> avg:  575.0\n",
      "rtl ==> [1430, 1490, 1567] ==> avg:  1495.67\n",
      "mtl ==> [234, 180, 160] ==> avg:  191.33\n"
     ]
    }
   ],
   "source": [
    "#2 \n",
    "import statistics\n",
    "\n",
    "stocks = {\n",
    "    'info': [600, 630, 620],\n",
    "    'rtl': [1430, 1490, 1567],\n",
    "    'mtl':[234, 180, 160]\n",
    "}\n",
    "\n",
    "def print_all():\n",
    "    for stock, price_list in stocks.items():\n",
    "        avg = statistics.mean(price_list)\n",
    "        print(f\"{stock} ==> {price_list} ==> avg: \", round(avg, 2))\n",
    "\n",
    "def add():\n",
    "    s = input(\"Enter a stock ticker to add:\")\n",
    "    p = input(\"Enter price of this stock:\")\n",
    "    p=float(p)\n",
    "    if s in stocks:\n",
    "        stocks[s].append(p)\n",
    "    else:\n",
    "        stocks[s] = [p]\n",
    "    print_all()    \n",
    "        \n",
    "def main():\n",
    "    op = input(\"Enter operation (print, add or amend): \")\n",
    "    if op.lower() == 'print':\n",
    "        print_all()\n",
    "    elif op.lower() == 'add':\n",
    "        add()\n",
    "    else:\n",
    "        print(\"Unsupported operation: \", op)\n",
    "\n",
    "if __name__ == '__main__':\n",
    "    main()\n",
    "\n",
    "\n"
   ]
  },
  {
   "cell_type": "code",
   "execution_count": 101,
   "id": "bfaa254e-8bab-402c-b8e4-eb4ca3e41060",
   "metadata": {},
   "outputs": [
    {
     "name": "stdin",
     "output_type": "stream",
     "text": [
      "Enter a radius:  5\n"
     ]
    },
    {
     "name": "stdout",
     "output_type": "stream",
     "text": [
      "area 78.53981633974483, circumference 31.41592653589793, diameter 10.0\n"
     ]
    }
   ],
   "source": [
    "#3\n",
    "import math\n",
    "\n",
    "def circle_calc(radius):\n",
    "    area = math.pi*(radius**2)\n",
    "    circumference=2*math.pi*radius\n",
    "    diameter = 2*radius\n",
    "    return area, circumference, diameter\n",
    "\n",
    "if __name__ == '__main__':\n",
    "    r = input(\"Enter a radius: \")\n",
    "    r = float(r)\n",
    "    area, c, d = circle_calc(r)\n",
    "    print(f\"area {area}, circumference {c}, diameter {d}\")\n"
   ]
  },
  {
   "cell_type": "code",
   "execution_count": null,
   "id": "1b8f4b0c-de9e-415a-a1f9-f419a7adb8bc",
   "metadata": {},
   "outputs": [],
   "source": [
    "#read, write files"
   ]
  },
  {
   "cell_type": "code",
   "execution_count": 108,
   "id": "29f1a1e5-004f-4a28-8c4f-1e462e759b20",
   "metadata": {},
   "outputs": [
    {
     "name": "stdout",
     "output_type": "stream",
     "text": [
      "{'Two': 1, 'roads': 1, 'diverged': 1, 'in': 2, 'ayellow': 1, 'wood,\\n': 1, 'And': 2, 'sorry': 1, 'I': 3, 'could': 2, 'not': 1, 'travel': 1, 'both\\n': 1, 'be': 1, 'one': 2, 'traveler,long': 1, 'stood\\n': 1, 'and': 1, 'looked': 1, 'down': 1, 'as': 1, 'far': 1, '\\n': 1, 'To': 1, 'where': 1, 'it': 1, 'bent': 1, 'the': 1, 'undergrowth;': 1}\n",
      "Max occurances of any word is:  3\n",
      "Word with max occurances are: \n",
      "I\n"
     ]
    }
   ],
   "source": [
    "\n",
    "word_stats = {}\n",
    "\n",
    "with open(\"poem.txt\", \"r\") as f:\n",
    "    for line in f:\n",
    "        words = line.split(' ')\n",
    "        for word in words:\n",
    "            if word in word_stats:\n",
    "                word_stats[word]+=1\n",
    "            else:\n",
    "                word_stats[word]=1\n",
    "\n",
    "print(word_stats)\n",
    "\n",
    "word_occurances = list(word_stats.values())\n",
    "max_count = max(word_occurances)\n",
    "print(\"Max occurances of any word is: \", max_count)\n",
    "\n",
    "print(\"Word with max occurances are: \")\n",
    "for word, count in word_stats.items():\n",
    "    if count==max_count:\n",
    "        \n",
    "        print(word)\n",
    "   "
   ]
  },
  {
   "cell_type": "code",
   "execution_count": 1,
   "id": "758f1624-6038-4183-9dce-cad81f3fd4bd",
   "metadata": {},
   "outputs": [],
   "source": [
    "#2\n",
    "with open(\"stocks.csv\", \"r\") as f, open(\"output.csv\", \"w\") as out:\n",
    "    out.write(\"Company Name,PE Ratio, PB Ratio\\n\")\n",
    "    next(f)  # This will skip first line in the file which is a header\n",
    "    for line in f:\n",
    "        tokens = line.split(\",\")\n",
    "        stock = tokens[0]\n",
    "        price = float(tokens[1])\n",
    "        eps = float(tokens[2])\n",
    "        book = float(tokens[3])\n",
    "        pe = round(price / eps, 2)\n",
    "        pb = round(price / book, 2)\n",
    "        out.write(f\"{stock},{pe},{pb}\\n\")"
   ]
  },
  {
   "cell_type": "code",
   "execution_count": 2,
   "id": "b6aef062-1890-4191-bc57-d2c3564a553e",
   "metadata": {},
   "outputs": [],
   "source": [
    "# multiple inheritance"
   ]
  },
  {
   "cell_type": "code",
   "execution_count": 3,
   "id": "ce6c7a80-e32e-4487-b050-ddc823199da1",
   "metadata": {},
   "outputs": [
    {
     "name": "stdout",
     "output_type": "stream",
     "text": [
      "I can teach\n",
      "I can code\n",
      "I can code and teach\n"
     ]
    }
   ],
   "source": [
    "class Teacher:\n",
    "    def teachers_action(self):\n",
    "        print(\"I can teach\")\n",
    "\n",
    "\n",
    "class Engineer:\n",
    "    def Engineers_action(self):\n",
    "        print(\"I can code\")\n",
    "\n",
    "\n",
    "class Youtuber:\n",
    "    def youtubers_action(self):\n",
    "        print(\"I can code and teach\")\n",
    "\n",
    "\n",
    "class Person(Teacher, Engineer, Youtuber):\n",
    "    pass\n",
    "\n",
    "\n",
    "coder = Person()\n",
    "coder.teachers_action()\n",
    "coder.Engineers_action()\n",
    "coder.youtubers_action()"
   ]
  },
  {
   "cell_type": "code",
   "execution_count": 4,
   "id": "6cdef428-2002-4e1b-9882-302e4e1d1555",
   "metadata": {},
   "outputs": [
    {
     "name": "stdout",
     "output_type": "stream",
     "text": [
      "age -> 17\n",
      "name -> Bhavin\n",
      "Person is an adult\n",
      "name -> Dhaval\n"
     ]
    }
   ],
   "source": [
    "# for making exception just make subclass of Exception\n",
    "class AdultException(Exception):\n",
    "    pass\n",
    "\n",
    "\n",
    "class Person:\n",
    "    def __init__(self, name, age):\n",
    "        self.name = name\n",
    "        self.age = age\n",
    "\n",
    "    def get_minor_age(self):\n",
    "        if int(self.age) >= 18:\n",
    "            raise AdultException\n",
    "        else:\n",
    "            return self.age\n",
    "\n",
    "    def display(self):\n",
    "        try:\n",
    "            print(f\"age -> {self.get_minor_age()}\")\n",
    "        except AdultException:\n",
    "            print(\"Person is an adult\")\n",
    "        finally:\n",
    "            print(f\"name -> {self.name}\")\n",
    "\n",
    "\n",
    "# No exception\n",
    "Person(\"Bhavin\", 17).display()\n",
    "\n",
    "# AdultException is raised\n",
    "Person(\"Dhaval\", 23).display()"
   ]
  },
  {
   "cell_type": "code",
   "execution_count": 5,
   "id": "3f85722c-003e-4af9-9551-eb3f2d885531",
   "metadata": {},
   "outputs": [],
   "source": [
    "#iterations"
   ]
  },
  {
   "cell_type": "code",
   "execution_count": 6,
   "id": "7a5c9b8a-56af-4453-96c6-c79fa44bb666",
   "metadata": {},
   "outputs": [
    {
     "name": "stdout",
     "output_type": "stream",
     "text": [
      "1\n",
      "2\n",
      "3\n",
      "5\n"
     ]
    }
   ],
   "source": [
    "class Fibonacci:\n",
    "    def __init__(self, limit):\n",
    "        # default constructor\n",
    "        self.previous = 0\n",
    "        self.current = 1\n",
    "        self.n = 1\n",
    "        self.limit = limit\n",
    "\n",
    "    def __iter__(self):\n",
    "        return self\n",
    "\n",
    "    def __next__(self):\n",
    "        if self.n < self.limit:\n",
    "            result = self.previous + self.current\n",
    "            self.previous = self.current\n",
    "            self.current = result\n",
    "            self.n += 1\n",
    "            return result\n",
    "        else:\n",
    "            raise StopIteration\n",
    "\n",
    "\n",
    "# init the fib_iterator\n",
    "fib_iterator = iter(Fibonacci(5))\n",
    "while True:\n",
    "    # print the value of next fibonacci up to 5th fibonacci\n",
    "    try:\n",
    "        print(next(fib_iterator))\n",
    "    except StopIteration:\n",
    "        break"
   ]
  },
  {
   "cell_type": "code",
   "execution_count": 7,
   "id": "48d771c8-73b7-4dde-be23-a879219fe156",
   "metadata": {},
   "outputs": [],
   "source": [
    "#multithreading"
   ]
  },
  {
   "cell_type": "code",
   "execution_count": 8,
   "id": "6af3cc9c-1718-4eb6-9b8c-0572cb35c4ee",
   "metadata": {},
   "outputs": [
    {
     "name": "stdout",
     "output_type": "stream",
     "text": [
      "Thread 0 will sleep.Current Threads: 10.\n",
      "\n",
      "Thread 1 will sleep.\n",
      "Current Threads: 11.\n",
      "Thread 2 will sleep.\n",
      "Current Threads: 12.\n",
      "Thread 3 will sleep.\n",
      "Current Threads: 13.\n",
      "Thread 4 will sleep.\n",
      "Current Threads: 14.\n",
      "Thread 5 will sleep.\n",
      "Current Threads: 15.\n",
      "Thread 6 will sleep.\n",
      "Current Threads: 16.\n",
      "Thread 7 will sleep.\n",
      "Current Threads: 17.\n",
      "Thread 8 will sleep.\n",
      "Current Threads: 18.\n",
      "Thread 9 will sleep.\n",
      "Current Threads: 19.\n",
      "Thread 0 is awake\n",
      "Thread 1 is awake\n",
      "Thread 2 is awake\n",
      "Thread 3 is awake\n",
      "Thread 4 is awake\n",
      "Thread 5 is awake\n",
      "Thread 7 is awake\n",
      "Thread 6 is awake\n",
      "Thread 9 is awake\n",
      "Thread 8 is awake\n"
     ]
    }
   ],
   "source": [
    "import time\n",
    "import threading\n",
    "from threading import Thread\n",
    "\n",
    "def sleepMe(i):\n",
    "    print(\"Thread %i will sleep.\" % i)\n",
    "    time.sleep(5)\n",
    "    print(\"Thread %i is awake\" % i)\n",
    "\n",
    "for i in range(10):\n",
    "    th = Thread(target=sleepMe, args=(i, ))\n",
    "    th.start()\n",
    "    print(\"Current Threads: %i.\" % threading.active_count())"
   ]
  },
  {
   "cell_type": "code",
   "execution_count": null,
   "id": "8b912fe9-dc66-4260-a983-ba533708098a",
   "metadata": {},
   "outputs": [],
   "source": []
  }
 ],
 "metadata": {
  "kernelspec": {
   "display_name": "Python 3 (ipykernel)",
   "language": "python",
   "name": "python3"
  },
  "language_info": {
   "codemirror_mode": {
    "name": "ipython",
    "version": 3
   },
   "file_extension": ".py",
   "mimetype": "text/x-python",
   "name": "python",
   "nbconvert_exporter": "python",
   "pygments_lexer": "ipython3",
   "version": "3.11.7"
  }
 },
 "nbformat": 4,
 "nbformat_minor": 5
}
