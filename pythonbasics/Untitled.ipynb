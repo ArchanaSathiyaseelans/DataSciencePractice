{
 "cells": [
  {
   "cell_type": "code",
   "execution_count": null,
   "id": "15f0c36b-c2f7-40a0-9e73-51a8ea350c7a",
   "metadata": {},
   "outputs": [],
   "source": [
    "# Variables"
   ]
  },
  {
   "cell_type": "code",
   "execution_count": 2,
   "id": "4ba57edf-b71e-4e23-90ae-158fec8c8024",
   "metadata": {},
   "outputs": [],
   "source": [
    "# Create a variable called break and assign it a value 5. See what happens and find out  the reason\n",
    "# behind the behaviour that you see.\n",
    "#break = 5\n",
    "##         gives invalid syntax"
   ]
  },
  {
   "cell_type": "code",
   "execution_count": 4,
   "id": "d6e9c47e-2313-4a5c-a100-132e5d46ea34",
   "metadata": {},
   "outputs": [
    {
     "name": "stdout",
     "output_type": "stream",
     "text": [
      "-26\n"
     ]
    }
   ],
   "source": [
    "# Create two variables. One to store your birth year and another one to store current year. Now Calculate\n",
    "# your age ysing two variables\n",
    "\n",
    "birth_year = 1998\n",
    "current_year = 2024\n",
    "current_age = birth_year-current_year\n",
    "\n",
    "print(current_age)\n"
   ]
  },
  {
   "cell_type": "code",
   "execution_count": 7,
   "id": "83475d07-b255-43be-98df-ec6dcc0d67d3",
   "metadata": {},
   "outputs": [
    {
     "name": "stdout",
     "output_type": "stream",
     "text": [
      "Your name is: Archana Sathiya seelan\n"
     ]
    }
   ],
   "source": [
    "# Store your first, middle and last name in three different variables and then print your full name using three variables\n",
    "\n",
    "first_name = \"Archana\"\n",
    "second_name = \"Sathiya\"\n",
    "third_name = \"seelan\"\n",
    "\n",
    "print(\"Your name is: \" +first_name+\" \" +second_name+ \" \" +third_name)"
   ]
  },
  {
   "cell_type": "code",
   "execution_count": 9,
   "id": "33220aa7-d7eb-403b-8d6e-efa2577fdef2",
   "metadata": {},
   "outputs": [],
   "source": [
    "# Answer which of these are invalid variable names:  _notion, 1record, record1, record_one,record-one,\n",
    "#recor^one, continue\n",
    "\n",
    "#answer\n",
    "#1record = first letter for variable declaration always starts with character and then number\n",
    "# continue = is the special key  or character word that is already stored in the system\n",
    "#record-one = no special character called be used to declare variable except underscore"
   ]
  },
  {
   "cell_type": "code",
   "execution_count": null,
   "id": "a2992c29-6974-4c07-b446-f36029d186e0",
   "metadata": {},
   "outputs": [],
   "source": []
  }
 ],
 "metadata": {
  "kernelspec": {
   "display_name": "Python 3 (ipykernel)",
   "language": "python",
   "name": "python3"
  },
  "language_info": {
   "codemirror_mode": {
    "name": "ipython",
    "version": 3
   },
   "file_extension": ".py",
   "mimetype": "text/x-python",
   "name": "python",
   "nbconvert_exporter": "python",
   "pygments_lexer": "ipython3",
   "version": "3.11.7"
  }
 },
 "nbformat": 4,
 "nbformat_minor": 5
}
